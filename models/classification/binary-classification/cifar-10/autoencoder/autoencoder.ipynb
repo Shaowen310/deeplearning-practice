{
 "nbformat": 4,
 "nbformat_minor": 2,
 "metadata": {
  "language_info": {
   "name": "python",
   "codemirror_mode": {
    "name": "ipython",
    "version": 3
   }
  },
  "orig_nbformat": 2,
  "file_extension": ".py",
  "mimetype": "text/x-python",
  "name": "python",
  "npconvert_exporter": "python",
  "pygments_lexer": "ipython3",
  "version": 3
 },
 "cells": [
  {
   "cell_type": "markdown",
   "execution_count": null,
   "metadata": {},
   "outputs": [],
   "source": [
    "# Autoencoder"
   ]
  },
  {
   "cell_type": "code",
   "execution_count": 1,
   "metadata": {},
   "outputs": [],
   "source": [
    "import os\n",
    "import numpy as np\n",
    "import tensorflow as tf\n",
    "import pickle\n",
    "import matplotlib.pyplot as plt\n",
    "\n",
    "cdir = os.getcwd() + '/autoencoder'"
   ]
  },
  {
   "cell_type": "markdown",
   "execution_count": null,
   "metadata": {},
   "outputs": [],
   "source": [
    "## Import data"
   ]
  },
  {
   "cell_type": "markdown",
   "execution_count": 1,
   "metadata": {},
   "outputs": [],
   "source": [
    "### CIFAR-10"
   ]
  },
  {
   "cell_type": "code",
   "execution_count": 2,
   "metadata": {},
   "outputs": [],
   "source": [
    "def unpickle(file):\n",
    "    import pickle\n",
    "    with open(file, 'rb') as fo:\n",
    "        dict = pickle.load(fo, encoding='latin1')\n",
    "    return dict\n",
    "\n",
    "def load_train():\n",
    "    data, labels = [], []\n",
    "    for i in range(1, 6):\n",
    "        open_data = unpickle(cdir+'/data/cifar-10-batches-py/data_batch_' + str(i))\n",
    "        if len(data) > 0:\n",
    "            data = np.vstack((data, open_data['data']))\n",
    "            labels = np.hstack((labels, open_data['labels']))\n",
    "        else:\n",
    "            data = np.array(open_data['data'])\n",
    "            labels = np.array(open_data['labels'])\n",
    "    return data, labels\n",
    "\n",
    "def load_test():\n",
    "    open_data = unpickle(cdir + '/data/cifar-10-batches-py/test_batch')\n",
    "    data = np.array(open_data['data'])\n",
    "    labels = np.array(open_data['labels'])\n",
    "    return data, labels\n",
    "\n",
    "data_train, labels_train = load_train()\n",
    "\n",
    "data_test, labels_test = load_test()"
   ]
  },
  {
   "cell_type": "markdown",
   "execution_count": 24,
   "metadata": {},
   "outputs": [],
   "source": [
    "## Preprocess"
   ]
  },
  {
   "cell_type": "markdown",
   "execution_count": null,
   "metadata": {},
   "outputs": [],
   "source": [
    "### CIFAR-10"
   ]
  },
  {
   "cell_type": "markdown",
   "execution_count": null,
   "metadata": {},
   "outputs": [],
   "source": [
    "#### Convert the data to back and white format"
   ]
  },
  {
   "cell_type": "code",
   "execution_count": 3,
   "metadata": {},
   "outputs": [],
   "source": [
    "def grayscale(im):\n",
    "    return im.reshape(im.shape[0], 3, 32, 32).mean(1).reshape(im.shape[0], -1)\n",
    "\n",
    "x_tr = grayscale(data_train)\n",
    "x_te = grayscale(data_test)"
   ]
  },
  {
   "cell_type": "markdown",
   "execution_count": null,
   "metadata": {},
   "outputs": [],
   "source": [
    "#### Select training set: horse images"
   ]
  },
  {
   "cell_type": "code",
   "execution_count": 4,
   "metadata": {},
   "outputs": [],
   "source": [
    "x_train_raw = x_tr[labels_train == 7]\n",
    "x_test_raw = x_te[labels_test == 7]"
   ]
  },
  {
   "cell_type": "markdown",
   "execution_count": null,
   "metadata": {},
   "outputs": [],
   "source": [
    "#### Image visualizer"
   ]
  },
  {
   "cell_type": "code",
   "execution_count": 5,
   "metadata": {},
   "outputs": [],
   "source": [
    "def plot_image(image, shape=[32, 32], cmap = \"Greys_r\"):\n",
    "    plt.imshow(image.reshape(shape), cmap=cmap,interpolation=\"nearest\")\n",
    "    plt.axis(\"off\")"
   ]
  },
  {
   "cell_type": "code",
   "execution_count": 6,
   "metadata": {},
   "outputs": [
    {
     "data": {
      "image/png": "[encoded data removed]",
      "image/svg+xml": "<?xml version=\"1.0\" encoding=\"utf-8\" standalone=\"no\"?>\r\n<!DOCTYPE svg PUBLIC \"-//W3C//DTD SVG 1.1//EN\"\r\n  \"http://www.w3.org/Graphics/SVG/1.1/DTD/svg11.dtd\">\r\n<!-- Created with matplotlib (https://matplotlib.org/) -->\r\n<svg height=\"231.84pt\" version=\"1.1\" viewBox=\"0 0 231.84 231.84\" width=\"231.84pt\" xmlns=\"http://www.w3.org/2000/svg\" xmlns:xlink=\"http://www.w3.org/1999/xlink\">\r\n <defs>\r\n  <style type=\"text/css\">\r\n*{stroke-linecap:butt;stroke-linejoin:round;white-space:pre;}\r\n  </style>\r\n </defs>\r\n <g id=\"figure_1\">\r\n  <g id=\"patch_1\">\r\n   <path d=\"M 0 231.84 \r\nL 231.84 231.84 \r\nL 231.84 0 \r\nL 0 0 \r\nz\r\n\"/>\r\n  </g>\r\n  <g id=\"axes_1\">\r\n   <g clip-path=\"url(#pb3a5d40ac7)\">\r\n    <image height=\"218\" id=\"imageb613b6beb7\" transform=\"scale(1 -1)translate(0 -218)\" width=\"218\" x=\"7.2\" xlink:href=\"data:image/png;base64,\r\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\" y=\"-6.64\"/>\r\n   </g>\r\n  </g>\r\n </g>\r\n <defs>\r\n  <clipPath id=\"pb3a5d40ac7\">\r\n   <rect height=\"217.44\" width=\"217.44\" x=\"7.2\" y=\"7.2\"/>\r\n  </clipPath>\r\n </defs>\r\n</svg>\r\n",
      "text/plain": "<Figure size 432x288 with 1 Axes>"
     },
     "metadata": {},
     "output_type": "display_data"
    }
   ],
   "source": [
    "plot_image(x_train_raw[0])"
   ]
  },
  {
   "cell_type": "code",
   "execution_count": 7,
   "metadata": {},
   "outputs": [
    {
     "data": {
      "image/png": "[encoded data removed]",
      "image/svg+xml": "<?xml version=\"1.0\" encoding=\"utf-8\" standalone=\"no\"?>\r\n<!DOCTYPE svg PUBLIC \"-//W3C//DTD SVG 1.1//EN\"\r\n  \"http://www.w3.org/Graphics/SVG/1.1/DTD/svg11.dtd\">\r\n<!-- Created with matplotlib (https://matplotlib.org/) -->\r\n<svg height=\"231.84pt\" version=\"1.1\" viewBox=\"0 0 231.84 231.84\" width=\"231.84pt\" xmlns=\"http://www.w3.org/2000/svg\" xmlns:xlink=\"http://www.w3.org/1999/xlink\">\r\n <defs>\r\n  <style type=\"text/css\">\r\n*{stroke-linecap:butt;stroke-linejoin:round;white-space:pre;}\r\n  </style>\r\n </defs>\r\n <g id=\"figure_1\">\r\n  <g id=\"patch_1\">\r\n   <path d=\"M 0 231.84 \r\nL 231.84 231.84 \r\nL 231.84 0 \r\nL 0 0 \r\nz\r\n\"/>\r\n  </g>\r\n  <g id=\"axes_1\">\r\n   <g clip-path=\"url(#p253230d09b)\">\r\n    <image height=\"218\" id=\"imagee0dc442348\" transform=\"scale(1 -1)translate(0 -218)\" width=\"218\" x=\"7.2\" xlink:href=\"data:image/png;base64,\r\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\" y=\"-6.64\"/>\r\n   </g>\r\n  </g>\r\n </g>\r\n <defs>\r\n  <clipPath id=\"p253230d09b\">\r\n   <rect height=\"217.44\" width=\"217.44\" x=\"7.2\" y=\"7.2\"/>\r\n  </clipPath>\r\n </defs>\r\n</svg>\r\n",
      "text/plain": "<Figure size 432x288 with 1 Axes>"
     },
     "metadata": {},
     "output_type": "display_data"
    }
   ],
   "source": [
    "plot_image(x_test_raw[0])"
   ]
  },
  {
   "cell_type": "markdown",
   "execution_count": null,
   "metadata": {},
   "outputs": [],
   "source": [
    "## Training"
   ]
  },
  {
   "cell_type": "code",
   "execution_count": 8,
   "metadata": {},
   "outputs": [
    {
     "name": "stderr",
     "output_type": "stream",
     "text": "Using TensorFlow backend.\n"
    }
   ],
   "source": [
    "from keras.layers import Input, Dense\n",
    "from keras.models import Model"
   ]
  },
  {
   "cell_type": "markdown",
   "execution_count": null,
   "metadata": {},
   "outputs": [],
   "source": [
    "### Simplest autoencoder"
   ]
  },
  {
   "cell_type": "code",
   "execution_count": 9,
   "metadata": {},
   "outputs": [
    {
     "name": "stdout",
     "output_type": "stream",
     "text": "WARNING:tensorflow:From C:\\Users\\AppData\\Local\\Continuum\\anaconda3\\lib\\site-packages\\keras\\backend\\tensorflow_backend.py:74: The name tf.get_default_graph is deprecated. Please use tf.compat.v1.get_default_graph instead.\n\nWARNING:tensorflow:From C:\\Users\\\\AppData\\Local\\Continuum\\anaconda3\\lib\\site-packages\\keras\\backend\\tensorflow_backend.py:517: The name tf.placeholder is deprecated. Please use tf.compat.v1.placeholder instead.\n\nWARNING:tensorflow:From C:\\Users\\\\AppData\\Local\\Continuum\\anaconda3\\lib\\site-packages\\keras\\backend\\tensorflow_backend.py:4138: The name tf.random_uniform is deprecated. Please use tf.random.uniform instead.\n\nWARNING:tensorflow:From C:\\Users\\\\AppData\\Local\\Continuum\\anaconda3\\lib\\site-packages\\keras\\optimizers.py:790: The name tf.train.Optimizer is deprecated. Please use tf.compat.v1.train.Optimizer instead.\n\nWARNING:tensorflow:From C:\\Users\\\\AppData\\Local\\Continuum\\anaconda3\\lib\\site-packages\\keras\\backend\\tensorflow_backend.py:3376: The name tf.log is deprecated. Please use tf.math.log instead.\n\nWARNING:tensorflow:From C:\\Users\\\\AppData\\Local\\Continuum\\anaconda3\\lib\\site-packages\\tensorflow\\python\\ops\\nn_impl.py:180: add_dispatch_support.<locals>.wrapper (from tensorflow.python.ops.array_ops) is deprecated and will be removed in a future version.\nInstructions for updating:\nUse tf.where in 2.0, which has the same broadcast rule as np.where\n"
    }
   ],
   "source": [
    "# this is the size of our encoded representations\n",
    "encoding_dim = 32  # 32 floats -> compression of factor 32, assuming the input is 1024 floats\n",
    "\n",
    "# this is our input placeholder\n",
    "input_img = Input(shape=(1024,))\n",
    "# \"encoded\" is the encoded representation of the input\n",
    "encoded = Dense(encoding_dim, activation='relu')(input_img)\n",
    "# \"decoded\" is the lossy reconstruction of the input\n",
    "decoded = Dense(1024, activation='sigmoid')(encoded)\n",
    "\n",
    "# this model maps an input to its reconstruction\n",
    "autoencoder = Model(input_img, decoded)\n",
    "\n",
    "# this model maps an input to its encoded representation\n",
    "encoder = Model(input_img, encoded)\n",
    "\n",
    "# create a placeholder for an encoded (32-dimensional) input\n",
    "encoded_input = Input(shape=(encoding_dim,))\n",
    "\n",
    "# retrieve the last layer of the autoencoder model\n",
    "decoder_layer = autoencoder.layers[-1]\n",
    "\n",
    "# create the decoder model\n",
    "decoder = Model(encoded_input, decoder_layer(encoded_input))\n",
    "\n",
    "autoencoder.compile(optimizer='adadelta', loss='binary_crossentropy')"
   ]
  },
  {
   "cell_type": "code",
   "execution_count": 10,
   "metadata": {},
   "outputs": [],
   "source": [
    "x_train = x_train_raw.astype('float32') / 255.\n",
    "x_test = x_test_raw.astype('float32') / 255.\n",
    "x_train = x_train.reshape((len(x_train), np.prod(x_train.shape[1:])))\n",
    "x_test = x_test.reshape((len(x_test), np.prod(x_test.shape[1:])))"
   ]
  },
  {
   "cell_type": "code",
   "execution_count": 12,
   "metadata": {},
   "outputs": [
    {
     "name": "stdout",
     "output_type": "stream",
     "text": "WARNING:tensorflow:From C:\\Users\\\\AppData\\Local\\Continuum\\anaconda3\\lib\\site-packages\\keras\\backend\\tensorflow_backend.py:986: The name tf.assign_add is deprecated. Please use tf.compat.v1.assign_add instead.\n\nTrain on 5000 samples, validate on 1000 samples\nEpoch 1/50\n5000/5000 [==============================] - 2s 322us/step - loss: 0.6934 - val_loss: 0.6931\nEpoch 2/50\n5000/5000 [==============================] - 0s 64us/step - loss: 0.6930 - val_loss: 0.6930\nEpoch 3/50\n5000/5000 [==============================] - 0s 61us/step - loss: 0.6929 - val_loss: 0.6929\nEpoch 4/50\n5000/5000 [==============================] - 0s 62us/step - loss: 0.6928 - val_loss: 0.6928\nEpoch 5/50\n5000/5000 [==============================] - 0s 61us/step - loss: 0.6927 - val_loss: 0.6927\nEpoch 6/50\n5000/5000 [==============================] - 0s 71us/step - loss: 0.6926 - val_loss: 0.6925\nEpoch 7/50\n5000/5000 [==============================] - 0s 62us/step - loss: 0.6925 - val_loss: 0.6924\nEpoch 8/50\n5000/5000 [==============================] - 0s 61us/step - loss: 0.6923 - val_loss: 0.6922\nEpoch 9/50\n5000/5000 [==============================] - 0s 60us/step - loss: 0.6921 - val_loss: 0.6919\nEpoch 10/50\n5000/5000 [==============================] - 0s 74us/step - loss: 0.6918 - val_loss: 0.6916\nEpoch 11/50\n5000/5000 [==============================] - 0s 57us/step - loss: 0.6915 - val_loss: 0.6912\nEpoch 12/50\n5000/5000 [==============================] - 0s 70us/step - loss: 0.6911 - val_loss: 0.6907\nEpoch 13/50\n5000/5000 [==============================] - 0s 54us/step - loss: 0.6906 - val_loss: 0.6901\nEpoch 14/50\n5000/5000 [==============================] - 0s 56us/step - loss: 0.6899 - val_loss: 0.6893\nEpoch 15/50\n5000/5000 [==============================] - 0s 67us/step - loss: 0.6892 - val_loss: 0.6885\nEpoch 16/50\n5000/5000 [==============================] - 0s 58us/step - loss: 0.6883 - val_loss: 0.6874\nEpoch 17/50\n5000/5000 [==============================] - 0s 66us/step - loss: 0.6872 - val_loss: 0.6863\nEpoch 18/50\n5000/5000 [==============================] - 0s 60us/step - loss: 0.6861 - val_loss: 0.6850\nEpoch 19/50\n5000/5000 [==============================] - 0s 67us/step - loss: 0.6849 - val_loss: 0.6837\nEpoch 20/50\n5000/5000 [==============================] - 0s 64us/step - loss: 0.6836 - val_loss: 0.6824\nEpoch 21/50\n5000/5000 [==============================] - 0s 57us/step - loss: 0.6823 - val_loss: 0.6811\nEpoch 22/50\n5000/5000 [==============================] - 0s 68us/step - loss: 0.6811 - val_loss: 0.6799\nEpoch 23/50\n5000/5000 [==============================] - 0s 61us/step - loss: 0.6800 - val_loss: 0.6787\nEpoch 24/50\n5000/5000 [==============================] - 0s 66us/step - loss: 0.6788 - val_loss: 0.6776\nEpoch 25/50\n5000/5000 [==============================] - 0s 70us/step - loss: 0.6778 - val_loss: 0.6765\nEpoch 26/50\n5000/5000 [==============================] - 0s 69us/step - loss: 0.6768 - val_loss: 0.6756\nEpoch 27/50\n5000/5000 [==============================] - 0s 57us/step - loss: 0.6758 - val_loss: 0.6746\nEpoch 28/50\n5000/5000 [==============================] - 0s 65us/step - loss: 0.6749 - val_loss: 0.6737\nEpoch 29/50\n5000/5000 [==============================] - 0s 64us/step - loss: 0.6740 - val_loss: 0.6728\nEpoch 30/50\n5000/5000 [==============================] - 0s 62us/step - loss: 0.6730 - val_loss: 0.6719\nEpoch 31/50\n5000/5000 [==============================] - 0s 66us/step - loss: 0.6721 - val_loss: 0.6710\nEpoch 32/50\n5000/5000 [==============================] - 0s 65us/step - loss: 0.6712 - val_loss: 0.6701\nEpoch 33/50\n5000/5000 [==============================] - 0s 69us/step - loss: 0.6703 - val_loss: 0.6692\nEpoch 34/50\n5000/5000 [==============================] - 0s 61us/step - loss: 0.6694 - val_loss: 0.6684\nEpoch 35/50\n5000/5000 [==============================] - 0s 72us/step - loss: 0.6686 - val_loss: 0.6675\nEpoch 36/50\n5000/5000 [==============================] - 0s 64us/step - loss: 0.6677 - val_loss: 0.6667\nEpoch 37/50\n5000/5000 [==============================] - 0s 61us/step - loss: 0.6669 - val_loss: 0.6659\nEpoch 38/50\n5000/5000 [==============================] - 0s 69us/step - loss: 0.6661 - val_loss: 0.6651\nEpoch 39/50\n5000/5000 [==============================] - 0s 63us/step - loss: 0.6654 - val_loss: 0.6644\nEpoch 40/50\n5000/5000 [==============================] - 0s 70us/step - loss: 0.6647 - val_loss: 0.6636\nEpoch 41/50\n5000/5000 [==============================] - 0s 63us/step - loss: 0.6640 - val_loss: 0.6630\nEpoch 42/50\n5000/5000 [==============================] - 0s 81us/step - loss: 0.6633 - val_loss: 0.6623\nEpoch 43/50\n5000/5000 [==============================] - 0s 72us/step - loss: 0.6627 - val_loss: 0.6616\nEpoch 44/50\n5000/5000 [==============================] - 0s 68us/step - loss: 0.6621 - val_loss: 0.6610\nEpoch 45/50\n5000/5000 [==============================] - 0s 63us/step - loss: 0.6616 - val_loss: 0.6604\nEpoch 46/50\n5000/5000 [==============================] - 0s 65us/step - loss: 0.6610 - val_loss: 0.6598\nEpoch 47/50\n5000/5000 [==============================] - 0s 69us/step - loss: 0.6605 - val_loss: 0.6593\nEpoch 48/50\n5000/5000 [==============================] - 0s 61us/step - loss: 0.6600 - val_loss: 0.6588\nEpoch 49/50\n5000/5000 [==============================] - 0s 63us/step - loss: 0.6595 - val_loss: 0.6583\nEpoch 50/50\n5000/5000 [==============================] - 0s 67us/step - loss: 0.6591 - val_loss: 0.6578\n"
    },
    {
     "data": {
      "text/plain": "<keras.callbacks.History at 0x1375f8af0f0>"
     },
     "execution_count": 12,
     "metadata": {},
     "output_type": "execute_result"
    }
   ],
   "source": [
    "autoencoder.fit(x_train, x_train,\n",
    "                epochs=50,\n",
    "                batch_size=256,\n",
    "                shuffle=True,\n",
    "                validation_data=(x_test, x_test))"
   ]
  },
  {
   "cell_type": "code",
   "execution_count": 13,
   "metadata": {},
   "outputs": [],
   "source": [
    "encoded_imgs = encoder.predict(x_test)\n",
    "decoded_imgs = decoder.predict(encoded_imgs)"
   ]
  },
  {
   "cell_type": "code",
   "execution_count": 15,
   "metadata": {},
   "outputs": [
    {
     "data": {
      "image/png": "[encoded data removed]",
      "image/svg+xml": "<?xml version=\"1.0\" encoding=\"utf-8\" standalone=\"no\"?>\r\n<!DOCTYPE svg PUBLIC \"-//W3C//DTD SVG 1.1//EN\"\r\n  \"http://www.w3.org/Graphics/SVG/1.1/DTD/svg11.dtd\">\r\n<!-- Created with matplotlib (https://matplotlib.org/) -->\r\n<svg height=\"231.84pt\" version=\"1.1\" viewBox=\"0 0 231.84 231.84\" width=\"231.84pt\" xmlns=\"http://www.w3.org/2000/svg\" xmlns:xlink=\"http://www.w3.org/1999/xlink\">\r\n <defs>\r\n  <style type=\"text/css\">\r\n*{stroke-linecap:butt;stroke-linejoin:round;white-space:pre;}\r\n  </style>\r\n </defs>\r\n <g id=\"figure_1\">\r\n  <g id=\"patch_1\">\r\n   <path d=\"M 0 231.84 \r\nL 231.84 231.84 \r\nL 231.84 0 \r\nL 0 0 \r\nz\r\n\"/>\r\n  </g>\r\n  <g id=\"axes_1\">\r\n   <g clip-path=\"url(#p412fb8fafe)\">\r\n    <image height=\"218\" id=\"image69faf1d44c\" transform=\"scale(1 -1)translate(0 -218)\" width=\"218\" x=\"7.2\" xlink:href=\"data:image/png;base64,\r\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\" y=\"-6.64\"/>\r\n   </g>\r\n  </g>\r\n </g>\r\n <defs>\r\n  <clipPath id=\"p412fb8fafe\">\r\n   <rect height=\"217.44\" width=\"217.44\" x=\"7.2\" y=\"7.2\"/>\r\n  </clipPath>\r\n </defs>\r\n</svg>\r\n",
      "text/plain": "<Figure size 432x288 with 1 Axes>"
     },
     "metadata": {},
     "output_type": "display_data"
    }
   ],
   "source": [
    "plot_image(decoded_imgs[0])"
   ]
  }
 ]
}
