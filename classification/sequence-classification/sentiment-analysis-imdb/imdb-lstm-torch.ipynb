{
 "cells": [
  {
   "cell_type": "markdown",
   "metadata": {},
   "source": [
    "## References\n",
    "\n",
    "1. https://github.com/bentrevett/pytorch-sentiment-analysis"
   ]
  },
  {
   "cell_type": "code",
   "execution_count": 1,
   "metadata": {},
   "outputs": [],
   "source": [
    "import numpy as np\n",
    "import torch"
   ]
  },
  {
   "cell_type": "markdown",
   "metadata": {},
   "source": [
    "## Load data\n",
    "\n",
    "TEXT field has tokenize='spacy' as an argument. This defines that the \"tokenization\" is done using the spaCy tokenizer. If no tokenize argument is passed, the default is simply splitting the string on spaces.\n",
    "\n",
    "LABEL is defined by a LabelField, a special subset of the Field class specifically used for handling labels."
   ]
  },
  {
   "cell_type": "code",
   "execution_count": 2,
   "metadata": {
    "tags": []
   },
   "outputs": [],
   "source": [
    "from torchtext import data, datasets\n",
    "\n",
    "MAX_SEQ_LEN=500\n",
    "\n",
    "TEXT = data.Field(tokenize='spacy', fix_length=MAX_SEQ_LEN)\n",
    "LABEL = data.LabelField(dtype=torch.float)\n",
    "d_train_all, d_test = datasets.IMDB.splits(TEXT, LABEL)"
   ]
  },
  {
   "cell_type": "code",
   "execution_count": 3,
   "metadata": {},
   "outputs": [],
   "source": [
    "d_train, d_vali = d_train_all.split(split_ratio=0.8)"
   ]
  },
  {
   "cell_type": "code",
   "execution_count": 4,
   "metadata": {
    "tags": []
   },
   "outputs": [
    {
     "output_type": "stream",
     "name": "stdout",
     "text": "Number of training examples: 20000\nNumber of validation examples: 5000\nNumber of testing examples: 25000\n"
    }
   ],
   "source": [
    "print(f'Number of training examples: {len(d_train)}')\n",
    "print(f'Number of validation examples: {len(d_vali)}')\n",
    "print(f'Number of testing examples: {len(d_test)}')"
   ]
  },
  {
   "cell_type": "markdown",
   "metadata": {},
   "source": [
    "## One-hot encoding\n",
    "\n",
    "The number of unique words in our training set is over 100,000, which means that our one-hot vectors will have over 100,000 dimensions! This will make training slow and possibly won't fit onto your GPU (if you're using one).\n",
    "\n",
    "There are two ways effectively cut down our vocabulary, we can either only take the top $n$ most common words or ignore words that appear less than $m$ times. We'll do the former, only keeping the top 25,000 words."
   ]
  },
  {
   "cell_type": "code",
   "execution_count": 5,
   "metadata": {
    "tags": []
   },
   "outputs": [
    {
     "output_type": "stream",
     "name": "stdout",
     "text": "Unique tokens in TEXT vocabulary: 5002\nUnique tokens in LABEL vocabulary: 2\n"
    }
   ],
   "source": [
    "MAX_VOCAB_SIZE = 5000\n",
    "\n",
    "TEXT.build_vocab(d_train, max_size=MAX_VOCAB_SIZE)\n",
    "LABEL.build_vocab(d_train)\n",
    "\n",
    "print(f\"Unique tokens in TEXT vocabulary: {len(TEXT.vocab)}\")\n",
    "print(f\"Unique tokens in LABEL vocabulary: {len(LABEL.vocab)}\")"
   ]
  },
  {
   "cell_type": "markdown",
   "metadata": {},
   "source": [
    "### Most common words"
   ]
  },
  {
   "cell_type": "code",
   "execution_count": 6,
   "metadata": {
    "tags": []
   },
   "outputs": [
    {
     "output_type": "stream",
     "name": "stdout",
     "text": "[('the', 232105), (',', 219689), ('.', 188743), ('and', 124722), ('a', 124381), ('of', 115183), ('to', 106983), ('is', 86817), ('in', 69944), ('I', 61972), ('it', 61074), ('that', 56150), ('\"', 50210), (\"'s\", 49565), ('this', 48574), ('-', 42391), ('/><br', 40631), ('was', 39859), ('as', 34767), ('with', 34232)]\n"
    }
   ],
   "source": [
    "print(TEXT.vocab.freqs.most_common(20))"
   ]
  },
  {
   "cell_type": "markdown",
   "metadata": {},
   "source": [
    "### Index to string map"
   ]
  },
  {
   "cell_type": "code",
   "execution_count": 7,
   "metadata": {
    "tags": []
   },
   "outputs": [
    {
     "output_type": "stream",
     "name": "stdout",
     "text": "['<unk>', '<pad>', 'the', ',', '.', 'and', 'a', 'of', 'to', 'is']\n"
    }
   ],
   "source": [
    "print(TEXT.vocab.itos[:10])"
   ]
  },
  {
   "cell_type": "markdown",
   "metadata": {},
   "source": [
    "### String to index map"
   ]
  },
  {
   "cell_type": "code",
   "execution_count": 8,
   "metadata": {
    "tags": []
   },
   "outputs": [
    {
     "output_type": "stream",
     "name": "stdout",
     "text": "defaultdict(None, {'pos': 0, 'neg': 1})\n"
    }
   ],
   "source": [
    "print(LABEL.vocab.stoi)"
   ]
  },
  {
   "cell_type": "markdown",
   "metadata": {},
   "source": [
    "## Training"
   ]
  },
  {
   "cell_type": "code",
   "execution_count": 9,
   "metadata": {},
   "outputs": [],
   "source": [
    "BATCH_SIZE = 64\n",
    "\n",
    "# device = torch.device('cuda' if torch.cuda.is_available() else 'cpu')\n",
    "device = 'cuda'\n",
    "\n",
    "d_train_iter, d_vali_iter, d_test_iter = data.BucketIterator.splits(\n",
    "    (d_train, d_vali, d_test), \n",
    "    batch_size = BATCH_SIZE,\n",
    "    device = device)"
   ]
  },
  {
   "cell_type": "markdown",
   "metadata": {},
   "source": [
    "### RNN"
   ]
  },
  {
   "cell_type": "code",
   "execution_count": 10,
   "metadata": {},
   "outputs": [],
   "source": [
    "import torch.nn as nn\n",
    "\n",
    "class RNN(nn.Module):\n",
    "    def __init__(self, input_dim, embedding_dim, hidden_dim, output_dim):\n",
    "        \n",
    "        super().__init__()\n",
    "        \n",
    "        self.embedding = nn.Embedding(input_dim, embedding_dim)\n",
    "        \n",
    "        self.rnn = nn.RNN(embedding_dim, hidden_dim)\n",
    "        \n",
    "        self.fc = nn.Linear(hidden_dim, output_dim)\n",
    "        \n",
    "    def forward(self, text):\n",
    "\n",
    "        #text = [sent len, batch size]\n",
    "        \n",
    "        embedded = self.embedding(text)\n",
    "        \n",
    "        #embedded = [sent len, batch size, emb dim]\n",
    "        \n",
    "        output, hidden = self.rnn(embedded)\n",
    "        \n",
    "        #output = [sent len, batch size, hid dim]\n",
    "        #hidden = [1, batch size, hid dim]\n",
    "        \n",
    "        return self.fc(hidden.squeeze(0))\n",
    "\n",
    "INPUT_DIM = len(TEXT.vocab)\n",
    "EMBEDDING_DIM = 32\n",
    "HIDDEN_DIM = 100\n",
    "OUTPUT_DIM = 1\n",
    "\n",
    "model = RNN(INPUT_DIM, EMBEDDING_DIM, HIDDEN_DIM, OUTPUT_DIM)"
   ]
  },
  {
   "cell_type": "code",
   "execution_count": 11,
   "metadata": {
    "tags": []
   },
   "outputs": [
    {
     "output_type": "stream",
     "name": "stdout",
     "text": "The model has 173,565 trainable parameters\n"
    }
   ],
   "source": [
    "def count_parameters(model):\n",
    "    return sum(p.numel() for p in model.parameters() if p.requires_grad)\n",
    "\n",
    "print(f'The model has {count_parameters(model):,} trainable parameters')"
   ]
  },
  {
   "cell_type": "markdown",
   "metadata": {},
   "source": [
    "### Optimizer"
   ]
  },
  {
   "cell_type": "code",
   "execution_count": 12,
   "metadata": {
    "tags": []
   },
   "outputs": [],
   "source": [
    "import torch.optim as optim\n",
    "\n",
    "optimizer = optim.SGD(model.parameters(), lr=1e-3)"
   ]
  },
  {
   "cell_type": "markdown",
   "metadata": {},
   "source": [
    "### Criterion"
   ]
  },
  {
   "cell_type": "code",
   "execution_count": 13,
   "metadata": {},
   "outputs": [],
   "source": [
    "criterion = nn.BCEWithLogitsLoss()"
   ]
  },
  {
   "cell_type": "markdown",
   "metadata": {},
   "source": [
    "Using `.to` to place the model and the criterion on the GPU (if we have one)."
   ]
  },
  {
   "cell_type": "code",
   "execution_count": 14,
   "metadata": {},
   "outputs": [],
   "source": [
    "model = model.to(device)\n",
    "criterion = criterion.to(device)"
   ]
  },
  {
   "cell_type": "code",
   "execution_count": 15,
   "metadata": {},
   "outputs": [],
   "source": [
    "def binary_accuracy(preds, y):\n",
    "    \"\"\"\n",
    "    Returns accuracy per batch, i.e. if you get 8/10 right, this returns 0.8, NOT 8\n",
    "    \"\"\"\n",
    "\n",
    "    #round predictions to the closest integer\n",
    "    rounded_preds = torch.round(torch.sigmoid(preds))\n",
    "    correct = (rounded_preds == y).float() #convert into float for division \n",
    "    acc = correct.sum() / len(correct)\n",
    "    return acc"
   ]
  },
  {
   "cell_type": "code",
   "execution_count": 16,
   "metadata": {},
   "outputs": [],
   "source": [
    "def train(model, iterator, optimizer, criterion):\n",
    "    \n",
    "    epoch_loss = 0\n",
    "    epoch_acc = 0\n",
    "    \n",
    "    model.train()\n",
    "    \n",
    "    for batch in iterator:\n",
    "        \n",
    "        optimizer.zero_grad()\n",
    "                \n",
    "        predictions = model(batch.text).squeeze(1)\n",
    "        \n",
    "        loss = criterion(predictions, batch.label)\n",
    "        \n",
    "        acc = binary_accuracy(predictions, batch.label)\n",
    "        \n",
    "        loss.backward()\n",
    "        \n",
    "        optimizer.step()\n",
    "        \n",
    "        epoch_loss += loss.item()\n",
    "        epoch_acc += acc.item()\n",
    "        \n",
    "    return epoch_loss / len(iterator), epoch_acc / len(iterator)"
   ]
  },
  {
   "cell_type": "code",
   "execution_count": 17,
   "metadata": {},
   "outputs": [],
   "source": [
    "def evaluate(model, iterator, criterion):\n",
    "    \n",
    "    epoch_loss = 0\n",
    "    epoch_acc = 0\n",
    "    \n",
    "    model.eval()\n",
    "    \n",
    "    with torch.no_grad():\n",
    "    \n",
    "        for batch in iterator:\n",
    "\n",
    "            predictions = model(batch.text).squeeze(1)\n",
    "            \n",
    "            loss = criterion(predictions, batch.label)\n",
    "            \n",
    "            acc = binary_accuracy(predictions, batch.label)\n",
    "\n",
    "            epoch_loss += loss.item()\n",
    "            epoch_acc += acc.item()\n",
    "        \n",
    "    return epoch_loss / len(iterator), epoch_acc / len(iterator)"
   ]
  },
  {
   "cell_type": "code",
   "execution_count": 18,
   "metadata": {},
   "outputs": [],
   "source": [
    "import time\n",
    "\n",
    "def epoch_time(start_time, end_time):\n",
    "    elapsed_time = end_time - start_time\n",
    "    elapsed_mins = int(elapsed_time / 60)\n",
    "    elapsed_secs = int(elapsed_time - (elapsed_mins * 60))\n",
    "    return elapsed_mins, elapsed_secs"
   ]
  },
  {
   "cell_type": "code",
   "execution_count": 19,
   "metadata": {
    "tags": []
   },
   "outputs": [
    {
     "output_type": "stream",
     "name": "stdout",
     "text": "Epoch: 01 | Epoch Time: 0m 9s\n\tTrain Loss: 0.695 | Train Acc: 50.28%\n\t Val. Loss: 0.695 |  Val. Acc: 50.51%\nEpoch: 02 | Epoch Time: 0m 9s\n\tTrain Loss: 0.694 | Train Acc: 50.29%\n\t Val. Loss: 0.695 |  Val. Acc: 50.51%\nEpoch: 03 | Epoch Time: 0m 9s\n\tTrain Loss: 0.694 | Train Acc: 50.19%\n\t Val. Loss: 0.695 |  Val. Acc: 50.47%\nEpoch: 04 | Epoch Time: 0m 9s\n\tTrain Loss: 0.694 | Train Acc: 50.44%\n\t Val. Loss: 0.695 |  Val. Acc: 50.53%\nEpoch: 05 | Epoch Time: 0m 9s\n\tTrain Loss: 0.694 | Train Acc: 50.22%\n\t Val. Loss: 0.695 |  Val. Acc: 50.63%\n"
    }
   ],
   "source": [
    "N_EPOCHS = 5\n",
    "\n",
    "best_valid_loss = float('inf')\n",
    "\n",
    "for epoch in range(N_EPOCHS):\n",
    "\n",
    "    start_time = time.time()\n",
    "    \n",
    "    train_loss, train_acc = train(model, d_train_iter, optimizer, criterion)\n",
    "    valid_loss, valid_acc = evaluate(model, d_vali_iter, criterion)\n",
    "    \n",
    "    end_time = time.time()\n",
    "\n",
    "    epoch_mins, epoch_secs = epoch_time(start_time, end_time)\n",
    "    \n",
    "    if valid_loss < best_valid_loss:\n",
    "        best_valid_loss = valid_loss\n",
    "        torch.save(model.state_dict(), 'tut1-model.pt')\n",
    "    \n",
    "    print(f'Epoch: {epoch+1:02} | Epoch Time: {epoch_mins}m {epoch_secs}s')\n",
    "    print(f'\\tTrain Loss: {train_loss:.3f} | Train Acc: {train_acc*100:.2f}%')\n",
    "    print(f'\\t Val. Loss: {valid_loss:.3f} |  Val. Acc: {valid_acc*100:.2f}%')"
   ]
  },
  {
   "cell_type": "code",
   "execution_count": 20,
   "metadata": {
    "tags": []
   },
   "outputs": [
    {
     "output_type": "stream",
     "name": "stdout",
     "text": "torch.Size([500, 64])\ntorch.Size([500, 64])\ntorch.Size([500, 64])\ntorch.Size([500, 64])\ntorch.Size([500, 64])\ntorch.Size([500, 64])\ntorch.Size([500, 64])\ntorch.Size([500, 64])\ntorch.Size([500, 64])\ntorch.Size([500, 64])\ntorch.Size([500, 64])\ntorch.Size([500, 64])\ntorch.Size([500, 64])\ntorch.Size([500, 64])\ntorch.Size([500, 64])\ntorch.Size([500, 64])\ntorch.Size([500, 64])\ntorch.Size([500, 64])\ntorch.Size([500, 64])\ntorch.Size([500, 64])\ntorch.Size([500, 64])\ntorch.Size([500, 64])\ntorch.Size([500, 64])\ntorch.Size([500, 64])\ntorch.Size([500, 64])\ntorch.Size([500, 64])\ntorch.Size([500, 64])\ntorch.Size([500, 64])\ntorch.Size([500, 64])\ntorch.Size([500, 64])\ntorch.Size([500, 64])\ntorch.Size([500, 64])\ntorch.Size([500, 64])\ntorch.Size([500, 64])\ntorch.Size([500, 64])\ntorch.Size([500, 64])\ntorch.Size([500, 64])\ntorch.Size([500, 64])\ntorch.Size([500, 64])\ntorch.Size([500, 64])\ntorch.Size([500, 64])\ntorch.Size([500, 64])\ntorch.Size([500, 64])\ntorch.Size([500, 64])\ntorch.Size([500, 64])\ntorch.Size([500, 64])\ntorch.Size([500, 64])\ntorch.Size([500, 64])\ntorch.Size([500, 64])\ntorch.Size([500, 64])\ntorch.Size([500, 64])\ntorch.Size([500, 64])\ntorch.Size([500, 64])\ntorch.Size([500, 64])\ntorch.Size([500, 64])\ntorch.Size([500, 64])\ntorch.Size([500, 64])\ntorch.Size([500, 64])\ntorch.Size([500, 64])\ntorch.Size([500, 64])\ntorch.Size([500, 64])\ntorch.Size([500, 64])\ntorch.Size([500, 64])\ntorch.Size([500, 64])\ntorch.Size([500, 64])\ntorch.Size([500, 64])\ntorch.Size([500, 64])\ntorch.Size([500, 64])\ntorch.Size([500, 64])\ntorch.Size([500, 64])\ntorch.Size([500, 64])\ntorch.Size([500, 64])\ntorch.Size([500, 64])\ntorch.Size([500, 64])\ntorch.Size([500, 64])\ntorch.Size([500, 64])\ntorch.Size([500, 64])\ntorch.Size([500, 64])\ntorch.Size([500, 64])\ntorch.Size([500, 64])\ntorch.Size([500, 64])\ntorch.Size([500, 64])\ntorch.Size([500, 64])\ntorch.Size([500, 64])\ntorch.Size([500, 64])\ntorch.Size([500, 64])\ntorch.Size([500, 64])\ntorch.Size([500, 64])\ntorch.Size([500, 64])\ntorch.Size([500, 64])\ntorch.Size([500, 64])\ntorch.Size([500, 64])\ntorch.Size([500, 64])\ntorch.Size([500, 64])\ntorch.Size([500, 64])\ntorch.Size([500, 64])\ntorch.Size([500, 64])\ntorch.Size([500, 64])\ntorch.Size([500, 64])\ntorch.Size([500, 64])\ntorch.Size([500, 64])\ntorch.Size([500, 64])\ntorch.Size([500, 64])\ntorch.Size([500, 64])\ntorch.Size([500, 64])\ntorch.Size([500, 64])\ntorch.Size([500, 64])\ntorch.Size([500, 64])\ntorch.Size([500, 64])\ntorch.Size([500, 64])\ntorch.Size([500, 64])\ntorch.Size([500, 64])\ntorch.Size([500, 64])\ntorch.Size([500, 64])\ntorch.Size([500, 64])\ntorch.Size([500, 64])\ntorch.Size([500, 64])\ntorch.Size([500, 64])\ntorch.Size([500, 64])\ntorch.Size([500, 64])\ntorch.Size([500, 64])\ntorch.Size([500, 64])\ntorch.Size([500, 64])\ntorch.Size([500, 64])\ntorch.Size([500, 64])\ntorch.Size([500, 64])\ntorch.Size([500, 64])\ntorch.Size([500, 64])\ntorch.Size([500, 64])\ntorch.Size([500, 64])\ntorch.Size([500, 64])\ntorch.Size([500, 64])\ntorch.Size([500, 64])\ntorch.Size([500, 64])\ntorch.Size([500, 64])\ntorch.Size([500, 64])\ntorch.Size([500, 64])\ntorch.Size([500, 64])\ntorch.Size([500, 64])\ntorch.Size([500, 64])\ntorch.Size([500, 64])\ntorch.Size([500, 64])\ntorch.Size([500, 64])\ntorch.Size([500, 64])\ntorch.Size([500, 64])\ntorch.Size([500, 64])\ntorch.Size([500, 64])\ntorch.Size([500, 64])\ntorch.Size([500, 64])\ntorch.Size([500, 64])\ntorch.Size([500, 64])\ntorch.Size([500, 64])\ntorch.Size([500, 64])\ntorch.Size([500, 64])\ntorch.Size([500, 64])\ntorch.Size([500, 64])\ntorch.Size([500, 64])\ntorch.Size([500, 64])\ntorch.Size([500, 64])\ntorch.Size([500, 64])\ntorch.Size([500, 64])\ntorch.Size([500, 64])\ntorch.Size([500, 64])\ntorch.Size([500, 64])\ntorch.Size([500, 64])\ntorch.Size([500, 64])\ntorch.Size([500, 64])\ntorch.Size([500, 64])\ntorch.Size([500, 64])\ntorch.Size([500, 64])\ntorch.Size([500, 64])\ntorch.Size([500, 64])\ntorch.Size([500, 64])\ntorch.Size([500, 64])\ntorch.Size([500, 64])\ntorch.Size([500, 64])\ntorch.Size([500, 64])\ntorch.Size([500, 64])\ntorch.Size([500, 64])\ntorch.Size([500, 64])\ntorch.Size([500, 64])\ntorch.Size([500, 64])\ntorch.Size([500, 64])\ntorch.Size([500, 64])\ntorch.Size([500, 64])\ntorch.Size([500, 64])\ntorch.Size([500, 64])\ntorch.Size([500, 64])\ntorch.Size([500, 64])\ntorch.Size([500, 64])\ntorch.Size([500, 64])\ntorch.Size([500, 64])\ntorch.Size([500, 64])\ntorch.Size([500, 64])\ntorch.Size([500, 64])\ntorch.Size([500, 64])\ntorch.Size([500, 64])\ntorch.Size([500, 64])\ntorch.Size([500, 64])\ntorch.Size([500, 64])\ntorch.Size([500, 64])\ntorch.Size([500, 64])\ntorch.Size([500, 64])\ntorch.Size([500, 64])\ntorch.Size([500, 64])\ntorch.Size([500, 64])\ntorch.Size([500, 64])\ntorch.Size([500, 64])\ntorch.Size([500, 64])\ntorch.Size([500, 64])\ntorch.Size([500, 64])\ntorch.Size([500, 64])\ntorch.Size([500, 64])\ntorch.Size([500, 64])\ntorch.Size([500, 64])\ntorch.Size([500, 64])\ntorch.Size([500, 64])\ntorch.Size([500, 64])\ntorch.Size([500, 64])\ntorch.Size([500, 64])\ntorch.Size([500, 64])\ntorch.Size([500, 64])\ntorch.Size([500, 64])\ntorch.Size([500, 64])\ntorch.Size([500, 64])\ntorch.Size([500, 64])\ntorch.Size([500, 64])\ntorch.Size([500, 64])\ntorch.Size([500, 64])\ntorch.Size([500, 64])\ntorch.Size([500, 64])\ntorch.Size([500, 64])\ntorch.Size([500, 64])\ntorch.Size([500, 64])\ntorch.Size([500, 64])\ntorch.Size([500, 64])\ntorch.Size([500, 64])\ntorch.Size([500, 64])\ntorch.Size([500, 64])\ntorch.Size([500, 64])\ntorch.Size([500, 64])\ntorch.Size([500, 64])\ntorch.Size([500, 64])\ntorch.Size([500, 64])\ntorch.Size([500, 64])\ntorch.Size([500, 64])\ntorch.Size([500, 64])\ntorch.Size([500, 64])\ntorch.Size([500, 64])\ntorch.Size([500, 64])\ntorch.Size([500, 64])\ntorch.Size([500, 64])\ntorch.Size([500, 64])\ntorch.Size([500, 64])\ntorch.Size([500, 64])\ntorch.Size([500, 64])\ntorch.Size([500, 64])\ntorch.Size([500, 64])\ntorch.Size([500, 64])\ntorch.Size([500, 64])\ntorch.Size([500, 64])\ntorch.Size([500, 64])\ntorch.Size([500, 64])\ntorch.Size([500, 64])\ntorch.Size([500, 64])\ntorch.Size([500, 64])\ntorch.Size([500, 64])\ntorch.Size([500, 64])\ntorch.Size([500, 64])\ntorch.Size([500, 64])\ntorch.Size([500, 64])\ntorch.Size([500, 64])\ntorch.Size([500, 64])\ntorch.Size([500, 64])\ntorch.Size([500, 64])\ntorch.Size([500, 64])\ntorch.Size([500, 64])\ntorch.Size([500, 64])\ntorch.Size([500, 64])\ntorch.Size([500, 64])\ntorch.Size([500, 64])\ntorch.Size([500, 64])\ntorch.Size([500, 64])\ntorch.Size([500, 64])\ntorch.Size([500, 64])\ntorch.Size([500, 64])\ntorch.Size([500, 64])\ntorch.Size([500, 64])\ntorch.Size([500, 64])\ntorch.Size([500, 64])\ntorch.Size([500, 64])\ntorch.Size([500, 64])\ntorch.Size([500, 64])\ntorch.Size([500, 64])\ntorch.Size([500, 64])\ntorch.Size([500, 64])\ntorch.Size([500, 64])\ntorch.Size([500, 64])\ntorch.Size([500, 64])\ntorch.Size([500, 64])\ntorch.Size([500, 64])\ntorch.Size([500, 64])\ntorch.Size([500, 64])\ntorch.Size([500, 64])\ntorch.Size([500, 64])\ntorch.Size([500, 64])\ntorch.Size([500, 64])\ntorch.Size([500, 64])\ntorch.Size([500, 64])\ntorch.Size([500, 64])\ntorch.Size([500, 64])\ntorch.Size([500, 64])\ntorch.Size([500, 32])\n"
    }
   ],
   "source": [
    "for batch in d_train_iter:\n",
    "    # print(batch)\n",
    "    # print(batch.text)\n",
    "    print(batch.text.shape)\n",
    "    break"
   ]
  },
  {
   "cell_type": "code",
   "execution_count": null,
   "metadata": {},
   "outputs": [],
   "source": []
  }
 ],
 "metadata": {
  "language_info": {
   "codemirror_mode": {
    "name": "ipython",
    "version": 3
   },
   "file_extension": ".py",
   "mimetype": "text/x-python",
   "name": "python",
   "nbconvert_exporter": "python",
   "pygments_lexer": "ipython3",
   "version": "3.7.7-final"
  },
  "orig_nbformat": 2,
  "kernelspec": {
   "name": "python37764bittorchgpuconda1b92d02f35b341b4a1bbb35ed051ed06",
   "display_name": "Python 3.7.7 64-bit ('torchgpu': conda)"
  }
 },
 "nbformat": 4,
 "nbformat_minor": 2
}