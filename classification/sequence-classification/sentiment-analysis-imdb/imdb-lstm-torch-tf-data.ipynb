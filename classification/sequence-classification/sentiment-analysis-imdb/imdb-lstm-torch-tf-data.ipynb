{
 "cells": [
  {
   "cell_type": "markdown",
   "metadata": {},
   "source": [
    "## References\n",
    "\n",
    "1. https://github.com/bentrevett/pytorch-sentiment-analysis\n",
    "2. https://github.com/lukysummer/Movie-Review-Sentiment-Analysis-LSTM-Pytorch"
   ]
  },
  {
   "cell_type": "code",
   "execution_count": 1,
   "metadata": {},
   "outputs": [],
   "source": [
    "import numpy as np\n",
    "import torch"
   ]
  },
  {
   "cell_type": "markdown",
   "metadata": {},
   "source": [
    "## Load data"
   ]
  },
  {
   "cell_type": "code",
   "execution_count": 2,
   "metadata": {
    "tags": []
   },
   "outputs": [],
   "source": [
    "N_VOCAB = 5000\n",
    "\n",
    "x_train_all = np.load('x_train.npy')\n",
    "x_test = np.load('x_test.npy')\n",
    "y_train_all = np.load('y_train.npy')\n",
    "y_test = np.load('y_test.npy')"
   ]
  },
  {
   "cell_type": "code",
   "execution_count": 3,
   "metadata": {},
   "outputs": [],
   "source": [
    "from sklearn.model_selection import train_test_split\n",
    "\n",
    "x_train, x_vali, y_train, y_vali = train_test_split(x_train_all, y_train_all, test_size=0.2)"
   ]
  },
  {
   "cell_type": "code",
   "execution_count": 4,
   "metadata": {
    "tags": []
   },
   "outputs": [
    {
     "output_type": "stream",
     "name": "stdout",
     "text": "Number of training examples: 20000\nNumber of validation examples: 5000\nNumber of testing examples: 25000\n"
    }
   ],
   "source": [
    "print(f'Number of training examples: {len(x_train)}')\n",
    "print(f'Number of validation examples: {len(x_vali)}')\n",
    "print(f'Number of testing examples: {len(x_test)}')"
   ]
  },
  {
   "cell_type": "markdown",
   "metadata": {},
   "source": [
    "## Training"
   ]
  },
  {
   "cell_type": "code",
   "execution_count": 5,
   "metadata": {},
   "outputs": [],
   "source": [
    "# device = torch.device('cuda' if torch.cuda.is_available() else 'cpu')\n",
    "device = 'cuda'"
   ]
  },
  {
   "cell_type": "code",
   "execution_count": 6,
   "metadata": {},
   "outputs": [],
   "source": [
    "from torch.utils.data import TensorDataset, DataLoader\n",
    "\n",
    "BATCH_SIZE = 64\n",
    "\n",
    "x_train = torch.as_tensor(x_train, dtype=torch.int64)\n",
    "x_vali = torch.as_tensor(x_vali, dtype=torch.int64)\n",
    "x_test = torch.as_tensor(x_test, dtype=torch.int64)\n",
    "y_train = torch.as_tensor(y_train, dtype=torch.float)\n",
    "y_vali = torch.as_tensor(y_vali, dtype=torch.float)\n",
    "y_test = torch.as_tensor(y_test, dtype=torch.float)\n",
    "\n",
    "d_train = TensorDataset(x_train, y_train)\n",
    "d_vali = TensorDataset(x_vali, y_vali)\n",
    "d_test = TensorDataset(x_test, y_test)\n",
    "\n",
    "dl_train = DataLoader(d_train, batch_size=BATCH_SIZE)\n",
    "dl_vali = DataLoader(d_vali, batch_size=BATCH_SIZE)\n",
    "dl_test = DataLoader(d_test, batch_size=BATCH_SIZE)"
   ]
  },
  {
   "cell_type": "markdown",
   "metadata": {},
   "source": [
    "### Model"
   ]
  },
  {
   "cell_type": "code",
   "execution_count": 7,
   "metadata": {},
   "outputs": [],
   "source": [
    "import torch.nn as nn\n",
    "\n",
    "class SentimentLSTM(nn.Module):\n",
    "    def __init__(self, n_vocab, embedding_dim, hidden_dim, output_dim, n_layers=2, drop_p=0.5):\n",
    "        super().__init__()\n",
    "        self.embedding = nn.Embedding(n_vocab, embedding_dim)\n",
    "        self.lstm = nn.LSTM(embedding_dim, hidden_dim, n_layers, batch_first=True, dropout=drop_p)\n",
    "        self.fc = nn.Linear(hidden_dim, output_dim)\n",
    "        self.dropout = nn.Dropout(drop_p)\n",
    "\n",
    "    def forward(self, text):\n",
    "        embedded = self.dropout(self.embedding(text))   # (batch_size, seq_length, n_embed)\n",
    "        output, (hidden, cell) = self.lstm(embedded)    # hidden=(num_layers * num_directions, batch, hidden_size)\n",
    "        hidden = self.dropout(hidden[-1,:,:])           # (batch, hidden_size)\n",
    "        return self.fc(hidden)\n",
    "\n",
    "EMBEDDING_DIM = 32\n",
    "HIDDEN_DIM = 100\n",
    "OUTPUT_DIM = 1\n",
    "\n",
    "model = SentimentLSTM(N_VOCAB, EMBEDDING_DIM, HIDDEN_DIM, OUTPUT_DIM)"
   ]
  },
  {
   "cell_type": "code",
   "execution_count": 8,
   "metadata": {
    "tags": []
   },
   "outputs": [
    {
     "output_type": "stream",
     "name": "stdout",
     "text": "The model has 294,501 trainable parameters\n"
    }
   ],
   "source": [
    "def count_parameters(model):\n",
    "    return sum(p.numel() for p in model.parameters() if p.requires_grad)\n",
    "\n",
    "print(f'The model has {count_parameters(model):,} trainable parameters')"
   ]
  },
  {
   "cell_type": "markdown",
   "metadata": {},
   "source": [
    "### Optimizer"
   ]
  },
  {
   "cell_type": "code",
   "execution_count": 9,
   "metadata": {
    "tags": []
   },
   "outputs": [],
   "source": [
    "import torch.optim as optim\n",
    "\n",
    "# optimizer = optim.SGD(model.parameters(), lr=1e-3)\n",
    "optimizer = optim.Adam(model.parameters(), lr=1e-3)"
   ]
  },
  {
   "cell_type": "markdown",
   "metadata": {},
   "source": [
    "### Criterion"
   ]
  },
  {
   "cell_type": "code",
   "execution_count": 10,
   "metadata": {},
   "outputs": [],
   "source": [
    "criterion = nn.BCEWithLogitsLoss()"
   ]
  },
  {
   "cell_type": "markdown",
   "metadata": {},
   "source": [
    "Using `.to` to place the model and the criterion on the GPU (if we have one)."
   ]
  },
  {
   "cell_type": "code",
   "execution_count": 11,
   "metadata": {},
   "outputs": [],
   "source": [
    "model = model.to(device)\n",
    "criterion = criterion.to(device)"
   ]
  },
  {
   "cell_type": "code",
   "execution_count": 12,
   "metadata": {},
   "outputs": [],
   "source": [
    "def binary_accuracy(preds, y):\n",
    "    \"\"\"\n",
    "    Returns accuracy per batch, i.e. if you get 8/10 right, this returns 0.8, NOT 8\n",
    "    \"\"\"\n",
    "    rounded_preds = torch.round(torch.sigmoid(preds))\n",
    "    correct = (rounded_preds == y).float() #convert into float for division \n",
    "    acc = correct.sum() / len(correct)\n",
    "    return acc"
   ]
  },
  {
   "cell_type": "code",
   "execution_count": 13,
   "metadata": {},
   "outputs": [],
   "source": [
    "def train(model, dl_train, optimizer, criterion):\n",
    "    epoch_loss = []\n",
    "    epoch_acc = []\n",
    "    \n",
    "    model.train()\n",
    "    \n",
    "    for x, y in dl_train:\n",
    "        x, y = x.to(device), y.to(device)\n",
    "\n",
    "        optimizer.zero_grad()\n",
    "\n",
    "        predictions = model(x).squeeze(1)\n",
    "        loss = criterion(predictions, y)\n",
    "        \n",
    "        loss.backward()\n",
    "        optimizer.step()\n",
    "        \n",
    "        acc = binary_accuracy(predictions, y)\n",
    "        \n",
    "        epoch_loss.append(loss.item())\n",
    "        epoch_acc.append(acc.item())\n",
    "        \n",
    "    return sum(epoch_loss)/len(epoch_loss), sum(epoch_acc)/len(epoch_acc)"
   ]
  },
  {
   "cell_type": "code",
   "execution_count": 14,
   "metadata": {},
   "outputs": [],
   "source": [
    "def evaluate(model, dl_vali, criterion):\n",
    "    \n",
    "    epoch_loss = []\n",
    "    epoch_acc = []\n",
    "    \n",
    "    model.eval()\n",
    "    \n",
    "    with torch.no_grad():\n",
    "        for x, y in dl_vali:\n",
    "            x, y = x.to(device), y.to(device)\n",
    "\n",
    "            predictions = model(x).squeeze(1)\n",
    "            loss = criterion(predictions, y)\n",
    "            \n",
    "            acc = binary_accuracy(predictions, y)\n",
    "\n",
    "            epoch_loss.append(loss.item())\n",
    "            epoch_acc.append(acc.item())\n",
    "        \n",
    "    return sum(epoch_loss)/len(epoch_loss), sum(epoch_acc)/len(epoch_acc)"
   ]
  },
  {
   "cell_type": "code",
   "execution_count": 15,
   "metadata": {},
   "outputs": [],
   "source": [
    "import time\n",
    "\n",
    "def epoch_time(start_time, end_time):\n",
    "    elapsed_time = end_time - start_time\n",
    "    elapsed_mins = int(elapsed_time / 60)\n",
    "    elapsed_secs = int(elapsed_time - (elapsed_mins * 60))\n",
    "    return elapsed_mins, elapsed_secs"
   ]
  },
  {
   "cell_type": "code",
   "execution_count": 16,
   "metadata": {
    "tags": []
   },
   "outputs": [
    {
     "output_type": "stream",
     "name": "stdout",
     "text": "Epoch: 01 | Epoch Time: 0m 30s\n\tTrain Loss: 0.682 | Train Acc: 55.43%\n\t Val. Loss: 0.664 |  Val. Acc: 58.88%\n\t Test. Loss: 0.666 |  Test. Acc: 58.74%\nEpoch: 02 | Epoch Time: 0m 30s\n\tTrain Loss: 0.635 | Train Acc: 63.86%\n\t Val. Loss: 0.579 |  Val. Acc: 71.12%\n\t Test. Loss: 0.583 |  Test. Acc: 70.90%\nEpoch: 03 | Epoch Time: 0m 30s\n\tTrain Loss: 0.595 | Train Acc: 68.36%\n\t Val. Loss: 0.531 |  Val. Acc: 75.00%\n\t Test. Loss: 0.541 |  Test. Acc: 74.42%\nEpoch: 04 | Epoch Time: 0m 31s\n\tTrain Loss: 0.552 | Train Acc: 72.49%\n\t Val. Loss: 0.497 |  Val. Acc: 77.39%\n\t Test. Loss: 0.511 |  Test. Acc: 76.84%\nEpoch: 05 | Epoch Time: 0m 30s\n\tTrain Loss: 0.524 | Train Acc: 74.81%\n\t Val. Loss: 0.436 |  Val. Acc: 80.97%\n\t Test. Loss: 0.448 |  Test. Acc: 80.05%\n"
    }
   ],
   "source": [
    "N_EPOCHS = 5\n",
    "\n",
    "best_valid_loss = float('inf')\n",
    "\n",
    "for epoch in range(N_EPOCHS):\n",
    "\n",
    "    start_time = time.time()\n",
    "    \n",
    "    train_loss, train_acc = train(model, dl_train, optimizer, criterion)\n",
    "    valid_loss, valid_acc = evaluate(model, dl_vali, criterion)\n",
    "    test_loss, test_acc = evaluate(model, dl_test, criterion)\n",
    "    \n",
    "    end_time = time.time()\n",
    "\n",
    "    epoch_mins, epoch_secs = epoch_time(start_time, end_time)\n",
    "    \n",
    "    if valid_loss < best_valid_loss:\n",
    "        best_valid_loss = valid_loss\n",
    "        torch.save(model.state_dict(), 'tut1-model.pt')\n",
    "    \n",
    "    print(f'Epoch: {epoch+1:02} | Epoch Time: {epoch_mins}m {epoch_secs}s')\n",
    "    print(f'\\tTrain Loss: {train_loss:.3f} | Train Acc: {train_acc*100:.2f}%')\n",
    "    print(f'\\t Val. Loss: {valid_loss:.3f} |  Val. Acc: {valid_acc*100:.2f}%')\n",
    "    print(f'\\t Test. Loss: {test_loss:.3f} |  Test. Acc: {test_acc*100:.2f}%')"
   ]
  },
  {
   "cell_type": "code",
   "execution_count": 17,
   "metadata": {
    "tags": []
   },
   "outputs": [],
   "source": [
    "for batch in dl_train:\n",
    "    # print(batch[0][0])\n",
    "    # print(batch[1][0])\n",
    "    break"
   ]
  },
  {
   "cell_type": "code",
   "execution_count": null,
   "metadata": {},
   "outputs": [],
   "source": []
  }
 ],
 "metadata": {
  "language_info": {
   "codemirror_mode": {
    "name": "ipython",
    "version": 3
   },
   "file_extension": ".py",
   "mimetype": "text/x-python",
   "name": "python",
   "nbconvert_exporter": "python",
   "pygments_lexer": "ipython3",
   "version": "3.7.7-final"
  },
  "orig_nbformat": 2,
  "kernelspec": {
   "name": "python37764bittorchgpuconda1b92d02f35b341b4a1bbb35ed051ed06",
   "display_name": "Python 3.7.7 64-bit ('torchgpu': conda)"
  }
 },
 "nbformat": 4,
 "nbformat_minor": 2
}