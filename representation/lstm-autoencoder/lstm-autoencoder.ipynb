{
 "cells": [
  {
   "cell_type": "code",
   "execution_count": 1,
   "metadata": {},
   "outputs": [
    {
     "name": "stderr",
     "output_type": "stream",
     "text": [
      "Using TensorFlow backend.\n"
     ]
    }
   ],
   "source": [
    "import numpy as np\n",
    "from keras.models import Sequential\n",
    "from keras.layers import Dense\n",
    "from keras.layers import LSTM\n",
    "from keras.layers import RepeatVector\n",
    "from keras.layers import TimeDistributed\n",
    "from keras.models import Model\n",
    "from keras.utils import plot_model\n",
    "\n",
    "np.set_printoptions(2)"
   ]
  },
  {
   "cell_type": "markdown",
   "metadata": {},
   "source": [
    "## Load data"
   ]
  },
  {
   "cell_type": "code",
   "execution_count": 14,
   "metadata": {},
   "outputs": [],
   "source": [
    "sequence = np.arange(50) / 50\n",
    "n_features = 5\n",
    "n_in = len(sequence) // n_features\n",
    "sequence = sequence.reshape((1, n_in, n_features))"
   ]
  },
  {
   "cell_type": "markdown",
   "metadata": {},
   "source": [
    "## Model"
   ]
  },
  {
   "cell_type": "code",
   "execution_count": 15,
   "metadata": {},
   "outputs": [
    {
     "name": "stdout",
     "output_type": "stream",
     "text": [
      "_________________________________________________________________\n",
      "Layer (type)                 Output Shape              Param #   \n",
      "=================================================================\n",
      "lstm_7 (LSTM)                (None, 100)               42400     \n",
      "_________________________________________________________________\n",
      "repeat_vector_4 (RepeatVecto (None, 10, 100)           0         \n",
      "_________________________________________________________________\n",
      "lstm_8 (LSTM)                (None, 10, 100)           80400     \n",
      "_________________________________________________________________\n",
      "time_distributed_4 (TimeDist (None, 10, 5)             505       \n",
      "=================================================================\n",
      "Total params: 123,305\n",
      "Trainable params: 123,305\n",
      "Non-trainable params: 0\n",
      "_________________________________________________________________\n",
      "None\n"
     ]
    }
   ],
   "source": [
    "model = Sequential()\n",
    "model.add(LSTM(100, activation='relu', input_shape=(n_in,n_features)))\n",
    "model.add(RepeatVector(n_in))\n",
    "model.add(LSTM(100, activation='relu', return_sequences=True))\n",
    "model.add(TimeDistributed(Dense(n_features)))\n",
    "model.compile(optimizer='adam', loss='mse')\n",
    "\n",
    "print(model.summary())"
   ]
  },
  {
   "cell_type": "code",
   "execution_count": 16,
   "metadata": {},
   "outputs": [
    {
     "data": {
      "text/plain": [
       "<keras.callbacks.History at 0x2527501cfc8>"
      ]
     },
     "execution_count": 16,
     "metadata": {},
     "output_type": "execute_result"
    }
   ],
   "source": [
    "model.fit(sequence, sequence, epochs=300, verbose=0)"
   ]
  },
  {
   "cell_type": "code",
   "execution_count": 17,
   "metadata": {},
   "outputs": [
    {
     "name": "stdout",
     "output_type": "stream",
     "text": [
      "[[[ 2.15e-02  1.55e-02  1.88e-02  1.94e-02  3.55e-03]\n",
      "  [-7.94e-03 -6.23e-03 -1.30e-03  5.87e-03 -4.43e-03]\n",
      "  [-1.18e-02 -8.43e-03 -5.64e-03  5.82e-04 -3.88e-03]\n",
      "  [-5.17e-03 -2.65e-03 -2.84e-03 -7.26e-04 -8.61e-04]\n",
      "  [ 3.90e-03  4.05e-03  1.01e-03 -2.05e-03  3.39e-03]\n",
      "  [ 9.73e-03  7.70e-03  2.99e-03 -4.01e-03  5.79e-03]\n",
      "  [ 6.63e-03  4.36e-03 -4.42e-05 -6.15e-03  2.75e-03]\n",
      "  [ 7.88e-04 -6.78e-04 -3.10e-03 -5.88e-03 -1.40e-03]\n",
      "  [-3.81e-03 -3.79e-03 -2.76e-03 -1.04e-03 -3.40e-03]\n",
      "  [-4.17e-03 -2.09e-03  3.86e-03  1.04e-02 -5.00e-04]]]\n"
     ]
    }
   ],
   "source": [
    "yhat = model.predict(sequence, verbose=0)\n",
    "print(yhat-sequence)"
   ]
  },
  {
   "cell_type": "markdown",
   "metadata": {},
   "source": [
    "## Keep Standalone LSTM Encoder"
   ]
  },
  {
   "cell_type": "code",
   "execution_count": 6,
   "metadata": {},
   "outputs": [
    {
     "name": "stdout",
     "output_type": "stream",
     "text": [
      "(1, 100)\n",
      "[[1.62e-03 2.49e-01 0.00e+00 0.00e+00 9.83e-02 0.00e+00 6.87e-02 0.00e+00\n",
      "  5.18e-02 0.00e+00 1.99e-02 4.03e-02 0.00e+00 1.49e-01 2.10e-04 0.00e+00\n",
      "  2.58e-01 0.00e+00 0.00e+00 0.00e+00 0.00e+00 1.32e-01 3.08e-01 0.00e+00\n",
      "  1.59e-01 0.00e+00 0.00e+00 0.00e+00 1.45e-01 1.33e-01 0.00e+00 4.15e-02\n",
      "  0.00e+00 0.00e+00 0.00e+00 0.00e+00 0.00e+00 0.00e+00 0.00e+00 9.97e-02\n",
      "  3.00e-01 0.00e+00 0.00e+00 0.00e+00 0.00e+00 1.06e-01 6.37e-02 0.00e+00\n",
      "  1.22e-01 0.00e+00 4.82e-02 4.94e-02 1.64e-01 2.86e-01 0.00e+00 0.00e+00\n",
      "  3.32e-02 1.54e-01 0.00e+00 0.00e+00 2.64e-01 6.93e-02 0.00e+00 1.39e-03\n",
      "  1.26e-01 0.00e+00 2.33e-01 0.00e+00 0.00e+00 0.00e+00 0.00e+00 0.00e+00\n",
      "  0.00e+00 1.59e-01 0.00e+00 4.71e-02 2.02e-01 1.74e-01 2.98e-02 0.00e+00\n",
      "  0.00e+00 0.00e+00 2.84e-01 1.30e-04 5.93e-06 0.00e+00 0.00e+00 1.19e-01\n",
      "  1.35e-01 0.00e+00 0.00e+00 1.96e-01 2.22e-05 0.00e+00 2.21e-01 1.47e-01\n",
      "  0.00e+00 0.00e+00 1.65e-01 0.00e+00]]\n"
     ]
    }
   ],
   "source": [
    "# connect the encoder LSTM as the output layer\n",
    "encoder_model = Model(inputs=model.inputs, outputs=model.layers[0].output)\n",
    "# plot_model(encoder_model, show_shapes=True, to_file='lstm_encoder.png')\n",
    "# get the feature vector for the input sequence\n",
    "yhat_enc = encoder_model.predict(sequence)\n",
    "print(yhat_enc.shape)\n",
    "print(yhat_enc)"
   ]
  },
  {
   "cell_type": "markdown",
   "metadata": {},
   "source": [
    "## Findings\n",
    "\n",
    "If input range is large, the absolute precision will drop. But relative precision according to the value range does not change. So pruning extreme values is necessary."
   ]
  },
  {
   "cell_type": "markdown",
   "metadata": {},
   "source": [
    "## References\n",
    "\n",
    "1. [Machine Learning Mastery: A Gentle Introduction to LSTM Autoencoders](https://machinelearningmastery.com/lstm-autoencoders/)"
   ]
  },
  {
   "cell_type": "code",
   "execution_count": null,
   "metadata": {},
   "outputs": [],
   "source": []
  }
 ],
 "metadata": {
  "kernelspec": {
   "display_name": "Python 3",
   "language": "python",
   "name": "python3"
  },
  "language_info": {
   "codemirror_mode": {
    "name": "ipython",
    "version": 3
   },
   "file_extension": ".py",
   "mimetype": "text/x-python",
   "name": "python",
   "nbconvert_exporter": "python",
   "pygments_lexer": "ipython3",
   "version": "3.7.5"
  }
 },
 "nbformat": 4,
 "nbformat_minor": 2
}
