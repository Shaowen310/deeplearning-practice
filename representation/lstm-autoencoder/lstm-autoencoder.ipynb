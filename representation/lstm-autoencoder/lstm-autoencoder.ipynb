{
 "cells": [
  {
   "cell_type": "code",
   "execution_count": 1,
   "metadata": {},
   "outputs": [
    {
     "name": "stderr",
     "output_type": "stream",
     "text": [
      "Using TensorFlow backend.\n"
     ]
    }
   ],
   "source": [
    "import numpy as np\n",
    "from keras.models import Sequential\n",
    "from keras.layers import Dense\n",
    "from keras.layers import LSTM\n",
    "from keras.layers import RepeatVector\n",
    "from keras.layers import TimeDistributed\n",
    "from keras.models import Model\n",
    "from keras.utils import plot_model"
   ]
  },
  {
   "cell_type": "markdown",
   "metadata": {},
   "source": [
    "## Load data"
   ]
  },
  {
   "cell_type": "code",
   "execution_count": 2,
   "metadata": {},
   "outputs": [],
   "source": [
    "sequence = np.array([0.1, 0.2, 0.3, 0.4, 0.5, 0.6, 0.7, 0.8, 0.9])\n",
    "n_in = len(sequence)\n",
    "sequence = sequence.reshape((1, n_in, 1))"
   ]
  },
  {
   "cell_type": "markdown",
   "metadata": {},
   "source": [
    "## Model"
   ]
  },
  {
   "cell_type": "code",
   "execution_count": 7,
   "metadata": {},
   "outputs": [
    {
     "name": "stdout",
     "output_type": "stream",
     "text": [
      "_________________________________________________________________\n",
      "Layer (type)                 Output Shape              Param #   \n",
      "=================================================================\n",
      "lstm_3 (LSTM)                (None, 100)               40800     \n",
      "_________________________________________________________________\n",
      "repeat_vector_2 (RepeatVecto (None, 9, 100)            0         \n",
      "_________________________________________________________________\n",
      "lstm_4 (LSTM)                (None, 9, 100)            80400     \n",
      "_________________________________________________________________\n",
      "time_distributed_2 (TimeDist (None, 9, 1)              101       \n",
      "=================================================================\n",
      "Total params: 121,301\n",
      "Trainable params: 121,301\n",
      "Non-trainable params: 0\n",
      "_________________________________________________________________\n",
      "None\n"
     ]
    }
   ],
   "source": [
    "model = Sequential()\n",
    "model.add(LSTM(100, activation='relu', input_shape=(n_in,1)))\n",
    "model.add(RepeatVector(n_in))\n",
    "model.add(LSTM(100, activation='relu', return_sequences=True))\n",
    "model.add(TimeDistributed(Dense(1)))\n",
    "model.compile(optimizer='adam', loss='mse')\n",
    "\n",
    "print(model.summary())"
   ]
  },
  {
   "cell_type": "code",
   "execution_count": 10,
   "metadata": {},
   "outputs": [
    {
     "data": {
      "text/plain": [
       "<keras.callbacks.History at 0x245f2f4a648>"
      ]
     },
     "execution_count": 10,
     "metadata": {},
     "output_type": "execute_result"
    }
   ],
   "source": [
    "model.fit(sequence, sequence, epochs=300, verbose=0)"
   ]
  },
  {
   "cell_type": "code",
   "execution_count": 5,
   "metadata": {},
   "outputs": [
    {
     "name": "stdout",
     "output_type": "stream",
     "text": [
      "[0.1043822  0.19986954 0.29883394 0.39925766 0.49997026 0.6004914\n",
      " 0.7004725  0.7996464  0.8999917 ]\n"
     ]
    }
   ],
   "source": [
    "yhat = model.predict(sequence, verbose=0)\n",
    "print(yhat[0,:,0])"
   ]
  },
  {
   "cell_type": "markdown",
   "metadata": {},
   "source": [
    "## Keep Standalone LSTM Encoder"
   ]
  },
  {
   "cell_type": "code",
   "execution_count": 6,
   "metadata": {},
   "outputs": [
    {
     "name": "stdout",
     "output_type": "stream",
     "text": [
      "(1, 100)\n",
      "[[0.0776437  0.0783195  0.         0.07300517 0.         0.\n",
      "  0.         0.         0.         0.08395053 0.         0.\n",
      "  0.         0.         0.         0.         0.         0.\n",
      "  0.         0.         0.         0.04406476 0.04826838 0.\n",
      "  0.         0.         0.         0.10367119 0.08991672 0.\n",
      "  0.061174   0.         0.         0.         0.06285162 0.06706778\n",
      "  0.04621964 0.         0.         0.07090113 0.01700027 0.\n",
      "  0.         0.         0.05734985 0.         0.         0.\n",
      "  0.         0.10045734 0.06470631 0.         0.07695849 0.00309676\n",
      "  0.         0.         0.08872069 0.         0.         0.\n",
      "  0.         0.10259909 0.         0.         0.         0.\n",
      "  0.03834438 0.         0.         0.         0.07546712 0.\n",
      "  0.07219782 0.09610678 0.         0.         0.         0.13336232\n",
      "  0.         0.1337662  0.         0.08724104 0.05531295 0.06848243\n",
      "  0.         0.         0.04978506 0.03069826 0.         0.09301534\n",
      "  0.         0.06641914 0.         0.         0.         0.09756009\n",
      "  0.10535669 0.         0.         0.        ]]\n"
     ]
    }
   ],
   "source": [
    "# connect the encoder LSTM as the output layer\n",
    "encoder_model = Model(inputs=model.inputs, outputs=model.layers[0].output)\n",
    "plot_model(encoder_model, show_shapes=True, to_file='lstm_encoder.png')\n",
    "# get the feature vector for the input sequence\n",
    "yhat_enc = encoder_model.predict(sequence)\n",
    "print(yhat_enc.shape)\n",
    "print(yhat_enc)"
   ]
  },
  {
   "cell_type": "markdown",
   "metadata": {},
   "source": [
    "## References\n",
    "\n",
    "1. [Machine Learning Mastery: A Gentle Introduction to LSTM Autoencoders](https://machinelearningmastery.com/lstm-autoencoders/)"
   ]
  },
  {
   "cell_type": "code",
   "execution_count": null,
   "metadata": {},
   "outputs": [],
   "source": []
  }
 ],
 "metadata": {
  "kernelspec": {
   "display_name": "Python 3",
   "language": "python",
   "name": "python3"
  },
  "language_info": {
   "codemirror_mode": {
    "name": "ipython",
    "version": 3
   },
   "file_extension": ".py",
   "mimetype": "text/x-python",
   "name": "python",
   "nbconvert_exporter": "python",
   "pygments_lexer": "ipython3",
   "version": "3.7.5"
  }
 },
 "nbformat": 4,
 "nbformat_minor": 2
}
