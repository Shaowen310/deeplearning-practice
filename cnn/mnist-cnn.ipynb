{
 "cells": [
  {
   "cell_type": "code",
   "execution_count": 2,
   "metadata": {},
   "outputs": [],
   "source": [
    "import numpy as np\n",
    "import matplotlib.pyplot as plt"
   ]
  },
  {
   "cell_type": "markdown",
   "metadata": {},
   "source": [
    "## Dataset"
   ]
  },
  {
   "cell_type": "markdown",
   "metadata": {},
   "source": [
    "### MNIST"
   ]
  },
  {
   "cell_type": "code",
   "execution_count": 3,
   "metadata": {},
   "outputs": [],
   "source": [
    "from sklearn import datasets"
   ]
  },
  {
   "cell_type": "code",
   "execution_count": 9,
   "metadata": {},
   "outputs": [
    {
     "data": {
      "image/png": "[encoded data removed]",
      "text/plain": [
       "<Figure size 432x288 with 4 Axes>"
      ]
     },
     "metadata": {
      "needs_background": "light"
     },
     "output_type": "display_data"
    }
   ],
   "source": [
    "digits = datasets.load_digits()\n",
    "\n",
    "images_and_labels = list(zip(digits.images, digits.target))\n",
    "for index, (image, label) in enumerate(images_and_labels[:4]):\n",
    "    plt.subplot(2, 4, index + 1)\n",
    "    plt.axis('off')\n",
    "    plt.imshow(image, cmap=plt.cm.gray_r, interpolation='nearest')\n",
    "    plt.title('Training: %i' % label)\n",
    "    \n",
    "n_samples = len(digits.images)\n",
    "data = digits.images.reshape((n_samples, -1))\n",
    "y = digits.target"
   ]
  },
  {
   "cell_type": "markdown",
   "metadata": {},
   "source": [
    "#### Train-test split"
   ]
  },
  {
   "cell_type": "code",
   "execution_count": 6,
   "metadata": {},
   "outputs": [],
   "source": [
    "from sklearn.model_selection import train_test_split"
   ]
  },
  {
   "cell_type": "code",
   "execution_count": 7,
   "metadata": {},
   "outputs": [],
   "source": [
    "x_train, x_test, y_train, y_test = train_test_split(\n",
    "    data, y, test_size=0.20, random_state=42)"
   ]
  },
  {
   "cell_type": "markdown",
   "metadata": {},
   "source": [
    "## CNN"
   ]
  },
  {
   "cell_type": "code",
   "execution_count": 16,
   "metadata": {},
   "outputs": [],
   "source": [
    "import keras\n",
    "from keras import models, layers"
   ]
  },
  {
   "cell_type": "markdown",
   "metadata": {},
   "source": [
    "### Preprocess"
   ]
  },
  {
   "cell_type": "markdown",
   "metadata": {},
   "source": [
    "#### Image to channel last"
   ]
  },
  {
   "cell_type": "code",
   "execution_count": 19,
   "metadata": {},
   "outputs": [],
   "source": [
    "img_rows = 8\n",
    "img_cols = 8\n",
    "\n",
    "x_train = x_train.reshape(x_train.shape[0], img_rows, img_cols, 1)\n",
    "x_test = x_test.reshape(x_test.shape[0], img_rows, img_cols, 1)\n",
    "input_shape = (img_rows, img_cols, 1)"
   ]
  },
  {
   "cell_type": "markdown",
   "metadata": {},
   "source": [
    "#### Label to categorical"
   ]
  },
  {
   "cell_type": "code",
   "execution_count": 13,
   "metadata": {},
   "outputs": [],
   "source": [
    "n_categories = 10\n",
    "\n",
    "y_train = keras.utils.to_categorical(y_train, n_categories)\n",
    "y_test = keras.utils.to_categorical(y_test, n_categories)"
   ]
  },
  {
   "cell_type": "markdown",
   "metadata": {},
   "source": [
    "### Model"
   ]
  },
  {
   "cell_type": "code",
   "execution_count": 21,
   "metadata": {},
   "outputs": [],
   "source": [
    "##model building\n",
    "model = models.Sequential()\n",
    "#convolutional layer with rectified linear unit activation\n",
    "model.add(layers.Conv2D(32, kernel_size=(3, 3),\n",
    "                 activation='relu',\n",
    "                 input_shape=input_shape))\n",
    "#32 convolution filters used each of size 3x3\n",
    "#again\n",
    "model.add(layers.Conv2D(64, (3, 3), activation='relu'))\n",
    "#64 convolution filters used each of size 3x3\n",
    "#choose the best features via pooling\n",
    "model.add(layers.MaxPooling2D(pool_size=(2, 2)))\n",
    "#randomly turn neurons on and off to improve convergence\n",
    "model.add(layers.Dropout(0.25))\n",
    "#flatten since too many dimensions, we only want a classification output\n",
    "model.add(layers.Flatten())\n",
    "#fully connected to get all relevant data\n",
    "model.add(layers.Dense(128, activation='relu'))\n",
    "#one more dropout for convergence' sake :) \n",
    "model.add(layers.Dropout(0.5))\n",
    "#output a softmax to squash the matrix into output probabilities\n",
    "model.add(layers.Dense(n_categories, activation='softmax'))"
   ]
  },
  {
   "cell_type": "code",
   "execution_count": 23,
   "metadata": {},
   "outputs": [],
   "source": [
    "#Adaptive learning rate (adaDelta) is a popular form of gradient descent rivaled only by adam and adagrad\n",
    "#categorical ce since we have multiple classes (10) \n",
    "model.compile(loss=keras.losses.categorical_crossentropy,\n",
    "              optimizer=keras.optimizers.Adadelta(),\n",
    "              metrics=['accuracy'])"
   ]
  },
  {
   "cell_type": "code",
   "execution_count": 27,
   "metadata": {},
   "outputs": [
    {
     "name": "stdout",
     "output_type": "stream",
     "text": [
      "Train on 1437 samples, validate on 360 samples\n",
      "Epoch 1/30\n",
      "1437/1437 [==============================] - 0s 56us/step - loss: 0.0225 - acc: 0.9923 - val_loss: 0.0281 - val_acc: 0.9889\n",
      "Epoch 2/30\n",
      "1437/1437 [==============================] - 0s 53us/step - loss: 0.0137 - acc: 0.9979 - val_loss: 0.0298 - val_acc: 0.9833\n",
      "Epoch 3/30\n",
      "1437/1437 [==============================] - 0s 54us/step - loss: 0.0298 - acc: 0.9903 - val_loss: 0.0492 - val_acc: 0.9861\n",
      "Epoch 4/30\n",
      "1437/1437 [==============================] - 0s 56us/step - loss: 0.0165 - acc: 0.9958 - val_loss: 0.0295 - val_acc: 0.9861\n",
      "Epoch 5/30\n",
      "1437/1437 [==============================] - 0s 51us/step - loss: 0.0159 - acc: 0.9958 - val_loss: 0.0226 - val_acc: 0.9944\n",
      "Epoch 6/30\n",
      "1437/1437 [==============================] - 0s 53us/step - loss: 0.0098 - acc: 0.9972 - val_loss: 0.0347 - val_acc: 0.9861\n",
      "Epoch 7/30\n",
      "1437/1437 [==============================] - 0s 54us/step - loss: 0.0149 - acc: 0.9951 - val_loss: 0.0238 - val_acc: 0.9889\n",
      "Epoch 8/30\n",
      "1437/1437 [==============================] - 0s 51us/step - loss: 0.0125 - acc: 0.9958 - val_loss: 0.0131 - val_acc: 0.9944\n",
      "Epoch 9/30\n",
      "1437/1437 [==============================] - 0s 53us/step - loss: 0.0107 - acc: 0.9979 - val_loss: 0.0250 - val_acc: 0.9917\n",
      "Epoch 10/30\n",
      "1437/1437 [==============================] - 0s 53us/step - loss: 0.0174 - acc: 0.9937 - val_loss: 0.0165 - val_acc: 0.9917\n",
      "Epoch 11/30\n",
      "1437/1437 [==============================] - 0s 54us/step - loss: 0.0123 - acc: 0.9965 - val_loss: 0.0213 - val_acc: 0.9917\n",
      "Epoch 12/30\n",
      "1437/1437 [==============================] - 0s 54us/step - loss: 0.0207 - acc: 0.9951 - val_loss: 0.0346 - val_acc: 0.9861\n",
      "Epoch 13/30\n",
      "1437/1437 [==============================] - 0s 56us/step - loss: 0.0197 - acc: 0.9958 - val_loss: 0.0410 - val_acc: 0.9889\n",
      "Epoch 14/30\n",
      "1437/1437 [==============================] - 0s 56us/step - loss: 0.0109 - acc: 0.9972 - val_loss: 0.0257 - val_acc: 0.9889\n",
      "Epoch 15/30\n",
      "1437/1437 [==============================] - 0s 54us/step - loss: 0.0136 - acc: 0.9958 - val_loss: 0.0223 - val_acc: 0.9889\n",
      "Epoch 16/30\n",
      "1437/1437 [==============================] - 0s 56us/step - loss: 0.0173 - acc: 0.9944 - val_loss: 0.0280 - val_acc: 0.9861\n",
      "Epoch 17/30\n",
      "1437/1437 [==============================] - 0s 54us/step - loss: 0.0132 - acc: 0.9958 - val_loss: 0.0358 - val_acc: 0.9861\n",
      "Epoch 18/30\n",
      "1437/1437 [==============================] - 0s 56us/step - loss: 0.0094 - acc: 0.9986 - val_loss: 0.0292 - val_acc: 0.9889\n",
      "Epoch 19/30\n",
      "1437/1437 [==============================] - 0s 56us/step - loss: 0.0126 - acc: 0.9958 - val_loss: 0.0331 - val_acc: 0.9861\n",
      "Epoch 20/30\n",
      "1437/1437 [==============================] - 0s 55us/step - loss: 0.0196 - acc: 0.9951 - val_loss: 0.0361 - val_acc: 0.9889\n",
      "Epoch 21/30\n",
      "1437/1437 [==============================] - 0s 53us/step - loss: 0.0072 - acc: 0.9979 - val_loss: 0.0290 - val_acc: 0.9889\n",
      "Epoch 22/30\n",
      "1437/1437 [==============================] - 0s 56us/step - loss: 0.0166 - acc: 0.9958 - val_loss: 0.0283 - val_acc: 0.9889\n",
      "Epoch 23/30\n",
      "1437/1437 [==============================] - 0s 55us/step - loss: 0.0128 - acc: 0.9958 - val_loss: 0.0197 - val_acc: 0.9917\n",
      "Epoch 24/30\n",
      "1437/1437 [==============================] - 0s 54us/step - loss: 0.0094 - acc: 0.9972 - val_loss: 0.0317 - val_acc: 0.9861\n",
      "Epoch 25/30\n",
      "1437/1437 [==============================] - 0s 53us/step - loss: 0.0051 - acc: 0.9986 - val_loss: 0.0179 - val_acc: 0.9889\n",
      "Epoch 26/30\n",
      "1437/1437 [==============================] - 0s 55us/step - loss: 0.0085 - acc: 0.9979 - val_loss: 0.0125 - val_acc: 0.9944\n",
      "Epoch 27/30\n",
      "1437/1437 [==============================] - 0s 54us/step - loss: 0.0112 - acc: 0.9944 - val_loss: 0.0188 - val_acc: 0.9917\n",
      "Epoch 28/30\n",
      "1437/1437 [==============================] - 0s 54us/step - loss: 0.0085 - acc: 0.9979 - val_loss: 0.0165 - val_acc: 0.9889\n",
      "Epoch 29/30\n",
      "1437/1437 [==============================] - 0s 54us/step - loss: 0.0109 - acc: 0.9958 - val_loss: 0.0192 - val_acc: 0.9917\n",
      "Epoch 30/30\n",
      "1437/1437 [==============================] - 0s 57us/step - loss: 0.0088 - acc: 0.9965 - val_loss: 0.0262 - val_acc: 0.9917\n"
     ]
    }
   ],
   "source": [
    "batch_size = 128\n",
    "num_epoch = 30\n",
    "\n",
    "#model training\n",
    "model_log = model.fit(x_train, y_train,\n",
    "          batch_size=batch_size,\n",
    "          epochs=num_epoch,\n",
    "          verbose=1,\n",
    "          validation_data=(x_test, y_test))"
   ]
  },
  {
   "cell_type": "code",
   "execution_count": 36,
   "metadata": {},
   "outputs": [],
   "source": [
    "y_test_pred_proba = model.predict(x_test)\n",
    "y_test_pred = np.argmax(y_test_pred_proba, axis=1)"
   ]
  },
  {
   "cell_type": "markdown",
   "metadata": {},
   "source": [
    "## Evaluation"
   ]
  },
  {
   "cell_type": "code",
   "execution_count": 28,
   "metadata": {},
   "outputs": [],
   "source": [
    "from sklearn import metrics"
   ]
  },
  {
   "cell_type": "code",
   "execution_count": 41,
   "metadata": {},
   "outputs": [
    {
     "name": "stdout",
     "output_type": "stream",
     "text": [
      "Confusion matrix:\n",
      "[[33  0  0  0  0  0  0  0  0  0]\n",
      " [ 0 28  0  0  0  0  0  0  0  0]\n",
      " [ 0  0 33  0  0  0  0  0  0  0]\n",
      " [ 0  0  0 33  0  1  0  0  0  0]\n",
      " [ 0  0  0  0 46  0  0  0  0  0]\n",
      " [ 0  0  0  0  0 47  0  0  0  0]\n",
      " [ 0  0  0  0  0  0 35  0  0  0]\n",
      " [ 0  0  0  0  0  0  0 34  0  0]\n",
      " [ 0  1  0  0  0  0  0  0 29  0]\n",
      " [ 0  0  0  0  1  0  0  0  0 39]]\n"
     ]
    }
   ],
   "source": [
    "print(\"Confusion matrix:\\n%s\" % metrics.confusion_matrix(np.argmax(y_test, axis=1), y_test_pred))"
   ]
  },
  {
   "cell_type": "code",
   "execution_count": 42,
   "metadata": {},
   "outputs": [
    {
     "name": "stdout",
     "output_type": "stream",
     "text": [
      "Accuracy: 0.9916666666666667\n"
     ]
    }
   ],
   "source": [
    "print(\"Accuracy: %s\" % metrics.accuracy_score(np.argmax(y_test, axis=1), y_test_pred))"
   ]
  },
  {
   "cell_type": "code",
   "execution_count": null,
   "metadata": {},
   "outputs": [],
   "source": []
  }
 ],
 "metadata": {
  "kernelspec": {
   "display_name": "Python 3",
   "language": "python",
   "name": "python3"
  },
  "language_info": {
   "codemirror_mode": {
    "name": "ipython",
    "version": 3
   },
   "file_extension": ".py",
   "mimetype": "text/x-python",
   "name": "python",
   "nbconvert_exporter": "python",
   "pygments_lexer": "ipython3",
   "version": "3.7.5"
  }
 },
 "nbformat": 4,
 "nbformat_minor": 2
}
